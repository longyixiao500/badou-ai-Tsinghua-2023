{
 "cells": [
  {
   "cell_type": "code",
   "execution_count": 1,
   "id": "e8dfb97d",
   "metadata": {},
   "outputs": [],
   "source": [
    "import cv2\n",
    "import numpy as np"
   ]
  },
  {
   "cell_type": "markdown",
   "id": "2ebd80bb",
   "metadata": {},
   "source": [
    "## 1.均值哈希算法"
   ]
  },
  {
   "cell_type": "code",
   "execution_count": 8,
   "id": "4ee253a1",
   "metadata": {},
   "outputs": [],
   "source": [
    "def aHash(img):\n",
    "    img = cv2.resize(img,(8,8),interpolation=cv2.INTER_CUBIC)\n",
    "    gray = cv2.cvtColor(img,cv2.COLOR_BGR2GRAY)\n",
    "    s = 0\n",
    "    hash_str=''\n",
    "    for i in range(8):\n",
    "        for j in range(8):\n",
    "            s=s+gray[i,j]\n",
    "    avg=s/64\n",
    "    for i in range(8):\n",
    "        for j in range(8):\n",
    "            if  gray[i,j]>avg:\n",
    "                hash_str=hash_str+'1'\n",
    "            else:\n",
    "                hash_str=hash_str+'0'            \n",
    "    return hash_str"
   ]
  },
  {
   "cell_type": "markdown",
   "id": "cf4f837a",
   "metadata": {},
   "source": [
    "## 2.差值算法"
   ]
  },
  {
   "cell_type": "code",
   "execution_count": 14,
   "id": "d925c43e",
   "metadata": {},
   "outputs": [],
   "source": [
    "def dHash(img):\n",
    "    img=cv2.resize(img,(9,8),interpolation=cv2.INTER_CUBIC)\n",
    "    gray=cv2.cvtColor(img,cv2.COLOR_BGR2GRAY)\n",
    "    hash_str=''\n",
    "    for i in range(8):\n",
    "        for j in range(8):\n",
    "            if gray[i,j]>gray[i,j+1]:\n",
    "                hash_str += '1'\n",
    "            else:\n",
    "                hash_str+='0'\n",
    "    return hash_str"
   ]
  },
  {
   "cell_type": "code",
   "execution_count": null,
   "id": "db6f6a1e",
   "metadata": {},
   "outputs": [],
   "source": []
  },
  {
   "cell_type": "code",
   "execution_count": 10,
   "id": "832bc3dd",
   "metadata": {},
   "outputs": [],
   "source": [
    "#Hash值对比\n",
    "def cmpHash(hash1,hash2):\n",
    "    n=0\n",
    "    #hash长度不同则返回-1代表传参出错\n",
    "    if len(hash1)!=len(hash2):\n",
    "        return -1\n",
    "    #遍历判断\n",
    "    for i in range(len(hash1)):\n",
    "        #不相等则n计数+1，n最终为相似度\n",
    "        if hash1[i]!=hash2[i]:\n",
    "            n=n+1\n",
    "    return n"
   ]
  },
  {
   "cell_type": "code",
   "execution_count": null,
   "id": "2fc83306",
   "metadata": {},
   "outputs": [],
   "source": []
  },
  {
   "cell_type": "code",
   "execution_count": null,
   "id": "c68ea086",
   "metadata": {},
   "outputs": [],
   "source": []
  },
  {
   "cell_type": "code",
   "execution_count": 12,
   "id": "00a4602e",
   "metadata": {},
   "outputs": [
    {
     "name": "stdout",
     "output_type": "stream",
     "text": [
      "1011111010011110100111011010100110101011101000110000111000101100\n",
      "0011010001111110111100111110101101101101101001110101001000100000\n",
      "均值哈希算法相似度： 24\n"
     ]
    }
   ],
   "source": [
    "img1=cv2.imread('lenna.png')\n",
    "img2=cv2.imread('lenna_noise.png')\n",
    "hash1= aHash(img1)\n",
    "hash2= aHash(img2)\n",
    "print(hash1)\n",
    "print(hash2)\n",
    "n=cmpHash(hash1,hash2)\n",
    "print('均值哈希算法相似度：',n)"
   ]
  },
  {
   "cell_type": "code",
   "execution_count": 15,
   "id": "3040080f",
   "metadata": {},
   "outputs": [
    {
     "name": "stdout",
     "output_type": "stream",
     "text": [
      "1000100110001101101000101010010001000110111011001010010110000011\n",
      "0001101001101011001011001010110100100110101010000010100100010110\n",
      "差值哈希算法相似度： 26\n"
     ]
    }
   ],
   "source": [
    "hash1= dHash(img1)\n",
    "hash2= dHash(img2)\n",
    "print(hash1)\n",
    "print(hash2)\n",
    "n=cmpHash(hash1,hash2)\n",
    "print('差值哈希算法相似度：',n)"
   ]
  },
  {
   "cell_type": "code",
   "execution_count": null,
   "id": "74766d70",
   "metadata": {},
   "outputs": [],
   "source": []
  }
 ],
 "metadata": {
  "kernelspec": {
   "display_name": "deeplearning_gpu",
   "language": "python",
   "name": "deeplearning_gpu"
  },
  "language_info": {
   "codemirror_mode": {
    "name": "ipython",
    "version": 3
   },
   "file_extension": ".py",
   "mimetype": "text/x-python",
   "name": "python",
   "nbconvert_exporter": "python",
   "pygments_lexer": "ipython3",
   "version": "3.7.1"
  }
 },
 "nbformat": 4,
 "nbformat_minor": 5
}
