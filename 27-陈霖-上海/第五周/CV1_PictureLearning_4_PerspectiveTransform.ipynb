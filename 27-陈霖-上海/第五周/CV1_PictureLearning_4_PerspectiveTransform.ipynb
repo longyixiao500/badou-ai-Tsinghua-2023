{
 "cells": [
  {
   "cell_type": "code",
   "execution_count": 18,
   "id": "ae309831",
   "metadata": {},
   "outputs": [],
   "source": [
    "import numpy as np\n",
    "import cv2"
   ]
  },
  {
   "cell_type": "markdown",
   "id": "0d7a3700",
   "metadata": {},
   "source": [
    "## 1.wrap Matrix"
   ]
  },
  {
   "cell_type": "code",
   "execution_count": 21,
   "id": "68cd497e",
   "metadata": {},
   "outputs": [],
   "source": [
    "def WarpPerspectiveMatrix(src, dst):\n",
    "    assert src.shape[0] == dst.shape[0] and src.shape[0] >= 4\n",
    "    \n",
    "    nums = src.shape[0]\n",
    "    A = np.zeros((2*nums,8))\n",
    "    B = np.zeros((2*nums,1))\n",
    "    for i in range(0,nums):\n",
    "        A_i = src[i,:]\n",
    "        B_i = dst[i,:]\n",
    "        A[2*i, :] = [A_i[0], A_i[1], 1, 0, 0, 0,\n",
    "                     -A_i[0]*B_i[0], -A_i[1]*B_i[0]]\n",
    "        B[2*i] = B_i[0]\n",
    "        A[2*i+1, :] = [0, 0, 0, A_i[0], A_i[1], 1,\n",
    "                       -A_i[0]*B_i[1], -A_i[1]*B_i[1]]\n",
    "        B[2*i+1] = B_i[1]\n",
    "        \n",
    "    A = np.mat(A)\n",
    "    warpMatrix = A.I * B # 求参数矩阵\n",
    "    warpMatrix = np.array(warpMatrix).T[0]\n",
    "    warpMatrix = np.insert(warpMatrix, warpMatrix.shape[0], values=1.0, axis=0) #插入a_33 = 1\n",
    "    warpMatrix = warpMatrix.reshape((3, 3))\n",
    "    return warpMatrix"
   ]
  },
  {
   "cell_type": "code",
   "execution_count": null,
   "id": "ae70fdaa",
   "metadata": {},
   "outputs": [],
   "source": []
  },
  {
   "cell_type": "code",
   "execution_count": 2,
   "id": "bc47d32d",
   "metadata": {},
   "outputs": [],
   "source": [
    "src = [[10.0, 457.0],\n",
    "       [395.0, 291.0],\n",
    "       [624.0, 291.0],\n",
    "       [1000.0, 457.0]]\n",
    "src = np.array(src)\n",
    "    \n",
    "dst = [[46.0, 920.0],\n",
    "       [46.0, 100.0],\n",
    "       [600.0, 100.0],\n",
    "       [600.0, 920.0]]\n",
    "dst = np.array(dst)"
   ]
  },
  {
   "cell_type": "code",
   "execution_count": 22,
   "id": "da571a1e",
   "metadata": {},
   "outputs": [
    {
     "name": "stdout",
     "output_type": "stream",
     "text": [
      "[[-5.01338334e-01 -1.35357643e+00  5.82386716e+02]\n",
      " [-1.04194431e-15 -4.84035391e+00  1.38781980e+03]\n",
      " [ 0.00000000e+00 -4.14856327e-03  1.00000000e+00]]\n"
     ]
    }
   ],
   "source": [
    "warpMatrix = WarpPerspectiveMatrix(src, dst)\n",
    "print(warpMatrix)"
   ]
  },
  {
   "cell_type": "code",
   "execution_count": null,
   "id": "e32e8115",
   "metadata": {},
   "outputs": [],
   "source": []
  },
  {
   "cell_type": "markdown",
   "id": "b60aff1b",
   "metadata": {},
   "source": [
    "## 2.Perspective Transform"
   ]
  },
  {
   "cell_type": "code",
   "execution_count": 23,
   "id": "9568b356",
   "metadata": {},
   "outputs": [],
   "source": [
    "img = cv2.imread('lenna.png')\n",
    "\n",
    "result3 = img.copy()"
   ]
  },
  {
   "cell_type": "code",
   "execution_count": 24,
   "id": "a023dbbe",
   "metadata": {},
   "outputs": [
    {
     "name": "stdout",
     "output_type": "stream",
     "text": [
      "(512, 512, 3)\n",
      "warpMatrix:\n",
      "[[ 8.92263779e-01  3.76733596e-01 -2.41585375e+02]\n",
      " [-4.08140258e-01  9.44205073e-01 -5.80899328e+01]\n",
      " [-8.53836442e-05  5.16464182e-05  1.00000000e+00]]\n"
     ]
    }
   ],
   "source": [
    "src = np.float32([[207, 151], \n",
    "                  [517, 285], \n",
    "                  [17, 601], \n",
    "                  [343, 731]])\n",
    "dst = np.float32([[0, 0], \n",
    "                  [337, 0], \n",
    "                  [0, 488], \n",
    "                  [337, 488]])\n",
    "print(img.shape)\n",
    "# 生成透视变换矩阵；进行透视变换\n",
    "m = cv2.getPerspectiveTransform(src, dst)\n",
    "print(\"warpMatrix:\")\n",
    "print(m)"
   ]
  },
  {
   "cell_type": "code",
   "execution_count": 25,
   "id": "2b6a7445",
   "metadata": {},
   "outputs": [
    {
     "data": {
      "text/plain": [
       "-1"
      ]
     },
     "execution_count": 25,
     "metadata": {},
     "output_type": "execute_result"
    }
   ],
   "source": [
    "result = cv2.warpPerspective(result3, m, (337, 488))\n",
    "cv2.imshow(\"src\", img)\n",
    "cv2.imshow(\"result\", result)\n",
    "cv2.waitKey(0)"
   ]
  },
  {
   "cell_type": "code",
   "execution_count": null,
   "id": "2c2cb838",
   "metadata": {},
   "outputs": [],
   "source": []
  }
 ],
 "metadata": {
  "kernelspec": {
   "display_name": "deeplearning_gpu",
   "language": "python",
   "name": "deeplearning_gpu"
  },
  "language_info": {
   "codemirror_mode": {
    "name": "ipython",
    "version": 3
   },
   "file_extension": ".py",
   "mimetype": "text/x-python",
   "name": "python",
   "nbconvert_exporter": "python",
   "pygments_lexer": "ipython3",
   "version": "3.7.1"
  }
 },
 "nbformat": 4,
 "nbformat_minor": 5
}
