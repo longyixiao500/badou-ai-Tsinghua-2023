{
 "cells": [
  {
   "cell_type": "markdown",
   "id": "8c0fa160",
   "metadata": {},
   "source": [
    "### 1. use numpy to realize the algorithm of PCA"
   ]
  },
  {
   "cell_type": "code",
   "execution_count": 7,
   "id": "d789948e",
   "metadata": {},
   "outputs": [],
   "source": [
    "import numpy as np"
   ]
  },
  {
   "cell_type": "markdown",
   "id": "bdb1d344",
   "metadata": {},
   "source": [
    "##### 1.1 rough version"
   ]
  },
  {
   "cell_type": "code",
   "execution_count": 17,
   "id": "870df6f3",
   "metadata": {},
   "outputs": [],
   "source": [
    "class PCA():\n",
    "    def __init__(self,n_components:float):\n",
    "        self.n_components = n_components\n",
    "    def fit_transform(self,X):\n",
    "        # get covariance matrix\n",
    "        X = X - X.mean(axis=0)\n",
    "        self.covariance = np.dot(X.T,X)/X.shape[0]\n",
    "        # get the eig vals & vector of covariance matrix\n",
    "        eig_vals,eig_vectors = np.linalg.eig(self.covariance)\n",
    "        # get important eig vals \n",
    "        idx = np.argsort(-eig_vals)\n",
    "        self.components_ = eig_vectors[:,idx[:self.n_components]] # According idx, get vector\n",
    "        return np.dot(X,self.components_)"
   ]
  },
  {
   "cell_type": "code",
   "execution_count": 18,
   "id": "7d96f984",
   "metadata": {},
   "outputs": [
    {
     "data": {
      "text/plain": [
       "array([[  7.96504337,  -4.12166867],\n",
       "       [ -0.43650137,  -2.07052079],\n",
       "       [-13.63653266,  -1.86686164],\n",
       "       [-22.28361821,   2.32219188],\n",
       "       [  3.47849303,   3.95193502],\n",
       "       [ 24.91311585,   1.78492421]])"
      ]
     },
     "execution_count": 18,
     "metadata": {},
     "output_type": "execute_result"
    }
   ],
   "source": [
    "pca = PCA(n_components=2)\n",
    "X = np.array([[-1,2,66,-1], \n",
    "              [-2,6,58,-1], \n",
    "              [-3,8,45,-2], \n",
    "              [1, 9,36, 1], \n",
    "              [2,10,62, 1], \n",
    "              [3,5, 83, 2]])\n",
    "newX=pca.fit_transform(X)\n",
    "newX"
   ]
  },
  {
   "cell_type": "code",
   "execution_count": null,
   "id": "a6487ed8",
   "metadata": {},
   "outputs": [],
   "source": []
  },
  {
   "cell_type": "markdown",
   "id": "22d1bede",
   "metadata": {},
   "source": [
    "##### 1.2 detail version"
   ]
  },
  {
   "cell_type": "markdown",
   "id": "f4acc7d0",
   "metadata": {},
   "source": [
    "Omit temporarily"
   ]
  },
  {
   "cell_type": "code",
   "execution_count": null,
   "id": "97b8a602",
   "metadata": {},
   "outputs": [],
   "source": []
  },
  {
   "cell_type": "markdown",
   "id": "79285135",
   "metadata": {},
   "source": [
    "### 2. use sklearn to realize the algorithm of PCA"
   ]
  },
  {
   "cell_type": "code",
   "execution_count": 19,
   "id": "27ec955a",
   "metadata": {},
   "outputs": [],
   "source": [
    "import numpy as np\n",
    "from sklearn.decomposition import PCA"
   ]
  },
  {
   "cell_type": "code",
   "execution_count": 21,
   "id": "8549dfc4",
   "metadata": {},
   "outputs": [],
   "source": [
    "X = np.array([[-1,2,66,-1], \n",
    "              [-2,6,58,-1], \n",
    "              [-3,8,45,-2],\n",
    "              [1,9,36,1], \n",
    "              [2,10,62,1], \n",
    "              [3,5,83,2]])"
   ]
  },
  {
   "cell_type": "code",
   "execution_count": 22,
   "id": "4bba6762",
   "metadata": {},
   "outputs": [],
   "source": [
    "pca = PCA(n_components=2)\n",
    "pca.fit(X) \n",
    "newX=pca.fit_transform(X)"
   ]
  },
  {
   "cell_type": "code",
   "execution_count": 23,
   "id": "1dfd947d",
   "metadata": {},
   "outputs": [
    {
     "name": "stdout",
     "output_type": "stream",
     "text": [
      "[0.95713353 0.03398198]\n",
      "[[  7.96504337   4.12166867]\n",
      " [ -0.43650137   2.07052079]\n",
      " [-13.63653266   1.86686164]\n",
      " [-22.28361821  -2.32219188]\n",
      " [  3.47849303  -3.95193502]\n",
      " [ 24.91311585  -1.78492421]]\n"
     ]
    }
   ],
   "source": [
    "print(pca.explained_variance_ratio_)\n",
    "print(newX)"
   ]
  },
  {
   "cell_type": "code",
   "execution_count": null,
   "id": "7c9e1567",
   "metadata": {},
   "outputs": [],
   "source": []
  }
 ],
 "metadata": {
  "kernelspec": {
   "display_name": "Python 3 (ipykernel)",
   "language": "python",
   "name": "python3"
  },
  "language_info": {
   "codemirror_mode": {
    "name": "ipython",
    "version": 3
   },
   "file_extension": ".py",
   "mimetype": "text/x-python",
   "name": "python",
   "nbconvert_exporter": "python",
   "pygments_lexer": "ipython3",
   "version": "3.9.13"
  }
 },
 "nbformat": 4,
 "nbformat_minor": 5
}
