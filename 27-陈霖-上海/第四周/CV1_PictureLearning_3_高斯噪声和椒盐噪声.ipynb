{
 "cells": [
  {
   "cell_type": "code",
   "execution_count": 4,
   "id": "96b2077e",
   "metadata": {},
   "outputs": [],
   "source": [
    "import cv2\n",
    "from skimage import util\n",
    "import random"
   ]
  },
  {
   "cell_type": "markdown",
   "id": "d72f84ce",
   "metadata": {},
   "source": [
    "### 1. GaussianNoise"
   ]
  },
  {
   "cell_type": "code",
   "execution_count": 23,
   "id": "dc329c52",
   "metadata": {},
   "outputs": [],
   "source": [
    "def GaussianNoise(src,mean,sigma,percentage):\n",
    "    \"\"\"percentage is about ambigiousity\"\"\"\n",
    "    NoiseImg=src\n",
    "    NoiseNum=int(percentage*src.shape[0]*src.shape[1])\n",
    "    for i in range(NoiseNum):\n",
    "        randx=random.randint(0,src.shape[0]-1)\n",
    "        randy=random.randint(0,src.shape[1]-1)\n",
    "        NoiseImg[randx,randy]=NoiseImg[randx,randy]+random.gauss(mean,sigma)\n",
    "        if NoiseImg[randx,randy]<0:\n",
    "            NoiseImg[randx,randy]=0\n",
    "        elif NoiseImg[randx,randy]>255:\n",
    "            NoiseImg[randx,randy]=255\n",
    "    return NoiseImg"
   ]
  },
  {
   "cell_type": "code",
   "execution_count": 25,
   "id": "bac679e5",
   "metadata": {},
   "outputs": [],
   "source": [
    "# add 0, it means this is grey picture \n",
    "img = cv2.imread('lenna.png',0)\n",
    "img1 = GaussianNoise(img,2,4,0.8)\n",
    "img = cv2.imread('lenna.png')\n",
    "img2 = cv2.cvtColor(img, cv2.COLOR_BGR2GRAY)"
   ]
  },
  {
   "cell_type": "code",
   "execution_count": 26,
   "id": "8ab84349",
   "metadata": {},
   "outputs": [
    {
     "data": {
      "text/plain": [
       "-1"
      ]
     },
     "execution_count": 26,
     "metadata": {},
     "output_type": "execute_result"
    }
   ],
   "source": [
    "cv2.imshow('source',img2)\n",
    "cv2.imshow('lenna_GaussianNoise',img1)\n",
    "cv2.waitKey(0)"
   ]
  },
  {
   "cell_type": "markdown",
   "id": "1f516cec",
   "metadata": {},
   "source": [
    "### 2. Pepper and Salt"
   ]
  },
  {
   "cell_type": "code",
   "execution_count": 35,
   "id": "76145249",
   "metadata": {},
   "outputs": [],
   "source": [
    "def PepperSaltNoise(src,percentage):\n",
    "    NoiseImg = src\n",
    "    NoiseNum = int(percentage * src.shape[0] * src.shape[1])\n",
    "    for i in range(NoiseNum):\n",
    "        randX = random.randint(0,src.shape[0]-1)\n",
    "        randY = random.randint(0,src.shape[1]-1)\n",
    "        if random.random()<=0.5:\n",
    "            NoiseImg[randX,randY]=0\n",
    "        else:\n",
    "            NoiseImg[randX,randY]=255\n",
    "    return NoiseImg"
   ]
  },
  {
   "cell_type": "code",
   "execution_count": 36,
   "id": "ffeef478",
   "metadata": {},
   "outputs": [],
   "source": [
    "img = cv2.imread('lenna.png',0)\n",
    "img1 = PepperSaltNoise(img,0.01)"
   ]
  },
  {
   "cell_type": "code",
   "execution_count": 37,
   "id": "8765bfd5",
   "metadata": {},
   "outputs": [
    {
     "data": {
      "text/plain": [
       "-1"
      ]
     },
     "execution_count": 37,
     "metadata": {},
     "output_type": "execute_result"
    }
   ],
   "source": [
    "img = cv2.imread('lenna.png')\n",
    "img2 = cv2.cvtColor(img, cv2.COLOR_BGR2GRAY)\n",
    "cv2.imshow('source',img2)\n",
    "cv2.imshow('lenna_PepperandSalt',img1)\n",
    "cv2.waitKey(0)"
   ]
  },
  {
   "cell_type": "markdown",
   "id": "438dd8d0",
   "metadata": {},
   "source": [
    "### 3. Simplily realize above algorithm"
   ]
  },
  {
   "cell_type": "markdown",
   "id": "d819eda9",
   "metadata": {},
   "source": [
    "directly use some mature package"
   ]
  },
  {
   "cell_type": "code",
   "execution_count": 40,
   "id": "8df91c75",
   "metadata": {},
   "outputs": [],
   "source": [
    "img = cv2.imread('lenna.png')\n",
    "noise_gs_img = util.random_noise(img,mode='poisson')\n",
    "\n",
    "cv2.imshow(\"source\", img)\n",
    "cv2.imshow(\"lenna\",noise_gs_img)\n",
    "cv2.waitKey(0)\n",
    "cv2.destroyAllWindows()"
   ]
  },
  {
   "cell_type": "code",
   "execution_count": null,
   "id": "5ec566da",
   "metadata": {},
   "outputs": [],
   "source": []
  },
  {
   "cell_type": "code",
   "execution_count": null,
   "id": "b63e7c17",
   "metadata": {},
   "outputs": [],
   "source": []
  },
  {
   "cell_type": "code",
   "execution_count": null,
   "id": "06f2b837",
   "metadata": {},
   "outputs": [],
   "source": []
  },
  {
   "cell_type": "code",
   "execution_count": null,
   "id": "7e0a7b27",
   "metadata": {},
   "outputs": [],
   "source": []
  }
 ],
 "metadata": {
  "kernelspec": {
   "display_name": "deeplearning_gpu",
   "language": "python",
   "name": "deeplearning_gpu"
  },
  "language_info": {
   "codemirror_mode": {
    "name": "ipython",
    "version": 3
   },
   "file_extension": ".py",
   "mimetype": "text/x-python",
   "name": "python",
   "nbconvert_exporter": "python",
   "pygments_lexer": "ipython3",
   "version": "3.7.1"
  }
 },
 "nbformat": 4,
 "nbformat_minor": 5
}
