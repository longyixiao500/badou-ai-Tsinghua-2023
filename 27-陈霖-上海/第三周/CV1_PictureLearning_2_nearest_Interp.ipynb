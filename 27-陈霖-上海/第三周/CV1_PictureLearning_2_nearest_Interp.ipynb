{
 "cells": [
  {
   "cell_type": "code",
   "execution_count": 1,
   "id": "e31f6a2a",
   "metadata": {},
   "outputs": [],
   "source": [
    "import cv2\n",
    "import numpy as np"
   ]
  },
  {
   "cell_type": "code",
   "execution_count": 5,
   "id": "973d5b04",
   "metadata": {},
   "outputs": [],
   "source": [
    "def function(img):\n",
    "    height,width,channels = img.shape\n",
    "    emptyImage=np.zeros((800,800,channels),np.uint8)\n",
    "    sh=800/height\n",
    "    sw=800/width\n",
    "    for i in range(800):\n",
    "        for j in range(800):\n",
    "            x=int(i/sh+0.5)\n",
    "            y=int(j/sw+0.5)\n",
    "            emptyImage[i,j]=img[x,y]\n",
    "    return emptyImage"
   ]
  },
  {
   "cell_type": "code",
   "execution_count": 6,
   "id": "80519b9d",
   "metadata": {},
   "outputs": [],
   "source": [
    "img=cv2.imread(\"lenna.png\")"
   ]
  },
  {
   "cell_type": "code",
   "execution_count": 7,
   "id": "d7e0b73d",
   "metadata": {},
   "outputs": [],
   "source": [
    "zoom=function(img)"
   ]
  },
  {
   "cell_type": "code",
   "execution_count": 8,
   "id": "16d198ff",
   "metadata": {},
   "outputs": [
    {
     "name": "stdout",
     "output_type": "stream",
     "text": [
      "[[[125 137 226]\n",
      "  [125 137 226]\n",
      "  [125 137 226]\n",
      "  ...\n",
      "  [110 130 221]\n",
      "  [ 90  99 200]\n",
      "  [ 90  99 200]]\n",
      "\n",
      " [[125 137 226]\n",
      "  [125 137 226]\n",
      "  [125 137 226]\n",
      "  ...\n",
      "  [110 130 221]\n",
      "  [ 90  99 200]\n",
      "  [ 90  99 200]]\n",
      "\n",
      " [[125 137 226]\n",
      "  [125 137 226]\n",
      "  [125 137 226]\n",
      "  ...\n",
      "  [110 130 221]\n",
      "  [ 90  99 200]\n",
      "  [ 90  99 200]]\n",
      "\n",
      " ...\n",
      "\n",
      " [[ 57  22  82]\n",
      "  [ 57  22  82]\n",
      "  [ 57  22  82]\n",
      "  ...\n",
      "  [ 81  71 181]\n",
      "  [ 81  74 185]\n",
      "  [ 81  74 185]]\n",
      "\n",
      " [[ 57  22  82]\n",
      "  [ 57  22  82]\n",
      "  [ 57  22  82]\n",
      "  ...\n",
      "  [ 81  71 181]\n",
      "  [ 81  74 185]\n",
      "  [ 81  74 185]]\n",
      "\n",
      " [[ 57  22  82]\n",
      "  [ 57  22  82]\n",
      "  [ 57  22  82]\n",
      "  ...\n",
      "  [ 81  71 181]\n",
      "  [ 81  74 185]\n",
      "  [ 81  74 185]]]\n"
     ]
    }
   ],
   "source": [
    "print(zoom)"
   ]
  },
  {
   "cell_type": "code",
   "execution_count": 9,
   "id": "ca30f487",
   "metadata": {},
   "outputs": [
    {
     "name": "stdout",
     "output_type": "stream",
     "text": [
      "(800, 800, 3)\n"
     ]
    }
   ],
   "source": [
    "print(zoom.shape)"
   ]
  },
  {
   "cell_type": "code",
   "execution_count": 10,
   "id": "f75e5aac",
   "metadata": {},
   "outputs": [
    {
     "data": {
      "text/plain": [
       "-1"
      ]
     },
     "execution_count": 10,
     "metadata": {},
     "output_type": "execute_result"
    }
   ],
   "source": [
    "cv2.imshow(\"nearest interp\",zoom)\n",
    "cv2.imshow(\"image\",img)\n",
    "cv2.waitKey(0)"
   ]
  },
  {
   "cell_type": "code",
   "execution_count": null,
   "id": "ece602c4",
   "metadata": {},
   "outputs": [],
   "source": []
  }
 ],
 "metadata": {
  "kernelspec": {
   "display_name": "deeplearning_gpu",
   "language": "python",
   "name": "deeplearning_gpu"
  },
  "language_info": {
   "codemirror_mode": {
    "name": "ipython",
    "version": 3
   },
   "file_extension": ".py",
   "mimetype": "text/x-python",
   "name": "python",
   "nbconvert_exporter": "python",
   "pygments_lexer": "ipython3",
   "version": "3.7.1"
  }
 },
 "nbformat": 4,
 "nbformat_minor": 5
}
