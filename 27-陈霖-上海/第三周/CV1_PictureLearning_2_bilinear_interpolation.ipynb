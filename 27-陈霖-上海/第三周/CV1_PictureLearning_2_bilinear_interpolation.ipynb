{
 "cells": [
  {
   "cell_type": "code",
   "execution_count": 1,
   "id": "805a7e73",
   "metadata": {},
   "outputs": [],
   "source": [
    "import numpy as np\n",
    "import cv2"
   ]
  },
  {
   "cell_type": "code",
   "execution_count": 2,
   "id": "1c73fce3",
   "metadata": {},
   "outputs": [],
   "source": [
    "def bilinear_interpolation(img,out_dim):\n",
    "    src_h,src_w,channel = img.shape\n",
    "    dst_h,dst_w = out_dim[1],out_dim[0]\n",
    "    print (\"src_h, src_w = \", src_h, src_w)\n",
    "    print (\"dst_h, dst_w = \", dst_h, dst_w)\n",
    "    if src_h == dst_h and src_w == dst_w:\n",
    "        return img.copy()\n",
    "    dst_img = np.zeros((dst_h,dst_w,3),dtype=np.uint8)\n",
    "    scale_x,scale_y = float(src_w)/dst_w,float(src_h)/dst_h\n",
    "    for i in range(3):\n",
    "        for dst_y in range(dst_h):\n",
    "            for dst_x in range(dst_w):\n",
    "                src_x = (dst_x+0.5)*scale_x-0.5\n",
    "                src_y = (dst_y+0.5)*scale_y-0.5\n",
    "                \n",
    "                # make sure the result don't jump over a fence\n",
    "                src_x0 = int(np.floor(src_x))\n",
    "                src_x1 = min(src_x0 + 1 ,src_w - 1)\n",
    "                src_y0 = int(np.floor(src_y))\n",
    "                src_y1 = min(src_y0 + 1, src_h - 1)\n",
    "                \n",
    "                temp0 = (src_x1-src_x)*img[src_y0,src_x0,i]+(src_x - src_x0) * img[src_y0,src_x1,i]\n",
    "                temp1 = (src_x1 - src_x) * img[src_y1,src_x0,i] + (src_x - src_x0) * img[src_y1,src_x1,i]\n",
    "                dst_img[dst_y,dst_x,i] = int((src_y1 - src_y) * temp0 + (src_y - src_y0) * temp1)\n",
    "    return dst_img"
   ]
  },
  {
   "cell_type": "code",
   "execution_count": 3,
   "id": "3f49ef1e",
   "metadata": {},
   "outputs": [
    {
     "name": "stdout",
     "output_type": "stream",
     "text": [
      "src_h, src_w =  512 512\n",
      "dst_h, dst_w =  900 900\n"
     ]
    }
   ],
   "source": [
    "if __name__ == '__main__':\n",
    "    img = cv2.imread('lenna.png')\n",
    "    dst = bilinear_interpolation(img,(900,900))\n",
    "    cv2.imshow('bilinear interp',dst)\n",
    "    cv2.imshow(\"image\",img)\n",
    "    cv2.waitKey()"
   ]
  },
  {
   "cell_type": "code",
   "execution_count": null,
   "id": "ff1b70a8",
   "metadata": {},
   "outputs": [],
   "source": []
  }
 ],
 "metadata": {
  "kernelspec": {
   "display_name": "deeplearning_gpu",
   "language": "python",
   "name": "deeplearning_gpu"
  },
  "language_info": {
   "codemirror_mode": {
    "name": "ipython",
    "version": 3
   },
   "file_extension": ".py",
   "mimetype": "text/x-python",
   "name": "python",
   "nbconvert_exporter": "python",
   "pygments_lexer": "ipython3",
   "version": "3.7.1"
  }
 },
 "nbformat": 4,
 "nbformat_minor": 5
}
